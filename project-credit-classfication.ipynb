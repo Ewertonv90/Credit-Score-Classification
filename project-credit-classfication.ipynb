{
 "cells": [
  {
   "cell_type": "markdown",
   "metadata": {},
   "source": [
    "# Credit-Score-Classification\n",
    "\n",
    "- Projeto de classificação de clientes de acordo com seus dados pessoais e financeiros. Dataset disponível em https://www.kaggle.com/datasets/parisrohan/credit-score-classification.\n",
    "- GitHub : https://github.com/Ewertonv90/Credit-Score-Classification\n",
    "\n",
    "\n",
    "\n",
    "# EN\n",
    "\n",
    "Problem Statement\n",
    "You are working as a data scientist in a global finance company. Over the years, the company has collected basic bank details and gathered a lot of credit-related information. The management wants to build an intelligent system to segregate the people into credit score brackets to reduce the manual efforts.\n",
    "\n",
    "Task\n",
    "Given a person’s credit-related information, build a machine learning model that can classify the credit score.\n",
    "\n",
    "# PT-BR\n",
    "\n",
    "Declaração do problema\n",
    "Você está trabalhando como cientista de dados em uma empresa financeira global. Ao longo dos anos, a empresa coletou dados bancários básicos e reuniu muitas informações relacionadas a crédito. A gerência quer construir um sistema inteligente para segregar as pessoas em faixas de pontuação de crédito para reduzir os esforços manuais.\n",
    "\n",
    "Tarefa\n",
    "Dadas as informações relacionadas ao crédito de uma pessoa, construa um modelo de aprendizado de máquina que possa classificar a pontuação de crédito.\n"
   ]
  },
  {
   "cell_type": "markdown",
   "metadata": {},
   "source": [
    "# 1.1 Data Undestanding"
   ]
  },
  {
   "cell_type": "code",
   "execution_count": 1,
   "metadata": {},
   "outputs": [],
   "source": [
    "import pandas as pd\n",
    "import numpy as np\n",
    "import matplotlib.pyplot as mpl\n",
    "import seaborn as sns"
   ]
  },
  {
   "cell_type": "code",
   "execution_count": null,
   "metadata": {},
   "outputs": [],
   "source": [
    "df_train = pd.read_csv('C:\\Users\\ewert\\Desktop\\Credit-Score-Classification\\raw dataset/train.csv')\n",
    "df_test = pd.read_csv('C:\\Users\\ewert\\Desktop\\Credit-Score-Classification\\raw dataset/test.csv')"
   ]
  },
  {
   "cell_type": "code",
   "execution_count": null,
   "metadata": {},
   "outputs": [],
   "source": []
  }
 ],
 "metadata": {
  "kernelspec": {
   "display_name": "Python 3.9.7 64-bit",
   "language": "python",
   "name": "python3"
  },
  "language_info": {
   "codemirror_mode": {
    "name": "ipython",
    "version": 3
   },
   "file_extension": ".py",
   "mimetype": "text/x-python",
   "name": "python",
   "nbconvert_exporter": "python",
   "pygments_lexer": "ipython3",
   "version": "3.9.7"
  },
  "orig_nbformat": 4,
  "vscode": {
   "interpreter": {
    "hash": "b9e4c2a3b7a9b33426ea8b9f3e769ec96c82a56a9d71d7bdb533c5feb9aaf175"
   }
  }
 },
 "nbformat": 4,
 "nbformat_minor": 2
}
